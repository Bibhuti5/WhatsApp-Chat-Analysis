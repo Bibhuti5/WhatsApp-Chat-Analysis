{
  "nbformat": 4,
  "nbformat_minor": 0,
  "metadata": {
    "colab": {
      "name": "WhatsApp Chat Sentiment Analysis using Python",
      "provenance": [],
      "collapsed_sections": []
    },
    "kernelspec": {
      "name": "python3",
      "display_name": "Python 3"
    },
    "language_info": {
      "name": "python"
    }
  },
  "cells": [
    {
      "cell_type": "markdown",
      "metadata": {
        "id": "XPJWHcdGRh2N"
      },
      "source": [
        "# WhatsApp Chat Sentiment Analysis\n",
        "To analyze the sentiments of a WhatsApp chat, we need to collect data from WhatsApp. Most of you must be using this messaging app, so to collect data about your chat, simply follow the steps mentioned below:\n",
        "\n",
        "1. For iPhone:\n",
        "\n",
        "Open your chat with a person or a group\n",
        "\n",
        "Just tap on the profile of the person or the group\n",
        "\n",
        "You will see an option to export chat down below\n",
        "\n",
        "2. For Android:\n",
        "\n",
        "Open your chat with a person or a group \n",
        "\n",
        "Click on the three dots above \n",
        "\n",
        "Click on more\n",
        "\n",
        "Click on the export chat\n",
        "\n",
        "You will see an option to attach media while exporting your chat. For simplicity, it is best not to attach media. Finally, enter your email and you will find your WhatsApp chat in your inbox.\n",
        "\n",
        "# WhatsApp Chat Sentiment Analysis using Python\n",
        "Now let’s start with the task of WhatsApp chat sentiment analysis with Python. I’ll start this task by defining some helper functions because the data we get from WhatsApp is not a dataset that is ready to be used for any kind of data science task. So, to prepare your data for the sentiment analysis task, just define all the functions as defined below:"
      ]
    },
    {
      "cell_type": "code",
      "metadata": {
        "colab": {
          "base_uri": "https://localhost:8080/"
        },
        "id": "Cf_RglLvSEf9",
        "outputId": "596653f5-2cbb-41b2-88a7-81a80c7d4523"
      },
      "source": [
        "pip install emoji"
      ],
      "execution_count": 2,
      "outputs": [
        {
          "output_type": "stream",
          "text": [
            "Collecting emoji\n",
            "  Downloading emoji-1.4.1.tar.gz (185 kB)\n",
            "\u001b[?25l\r\u001b[K     |█▊                              | 10 kB 20.8 MB/s eta 0:00:01\r\u001b[K     |███▌                            | 20 kB 26.7 MB/s eta 0:00:01\r\u001b[K     |█████▎                          | 30 kB 12.8 MB/s eta 0:00:01\r\u001b[K     |███████                         | 40 kB 9.8 MB/s eta 0:00:01\r\u001b[K     |████████▉                       | 51 kB 5.1 MB/s eta 0:00:01\r\u001b[K     |██████████▋                     | 61 kB 5.1 MB/s eta 0:00:01\r\u001b[K     |████████████▍                   | 71 kB 5.8 MB/s eta 0:00:01\r\u001b[K     |██████████████▏                 | 81 kB 6.2 MB/s eta 0:00:01\r\u001b[K     |████████████████                | 92 kB 5.4 MB/s eta 0:00:01\r\u001b[K     |█████████████████▊              | 102 kB 5.9 MB/s eta 0:00:01\r\u001b[K     |███████████████████▌            | 112 kB 5.9 MB/s eta 0:00:01\r\u001b[K     |█████████████████████▎          | 122 kB 5.9 MB/s eta 0:00:01\r\u001b[K     |███████████████████████         | 133 kB 5.9 MB/s eta 0:00:01\r\u001b[K     |████████████████████████▉       | 143 kB 5.9 MB/s eta 0:00:01\r\u001b[K     |██████████████████████████▌     | 153 kB 5.9 MB/s eta 0:00:01\r\u001b[K     |████████████████████████████▎   | 163 kB 5.9 MB/s eta 0:00:01\r\u001b[K     |██████████████████████████████  | 174 kB 5.9 MB/s eta 0:00:01\r\u001b[K     |███████████████████████████████▉| 184 kB 5.9 MB/s eta 0:00:01\r\u001b[K     |████████████████████████████████| 185 kB 5.9 MB/s \n",
            "\u001b[?25hBuilding wheels for collected packages: emoji\n",
            "  Building wheel for emoji (setup.py) ... \u001b[?25l\u001b[?25hdone\n",
            "  Created wheel for emoji: filename=emoji-1.4.1-py3-none-any.whl size=186393 sha256=b52fa2cba4f9e21a450ca49f15e89083c02ff2fb89788b420b69f6faaca0b138\n",
            "  Stored in directory: /root/.cache/pip/wheels/8e/68/ac/537456a5331f1405779f2b3c2a578429d2f6d7419e440330d8\n",
            "Successfully built emoji\n",
            "Installing collected packages: emoji\n",
            "Successfully installed emoji-1.4.1\n"
          ],
          "name": "stdout"
        }
      ]
    },
    {
      "cell_type": "code",
      "metadata": {
        "id": "ipUdLI1QRS4p"
      },
      "source": [
        "import re\n",
        "import pandas as pd\n",
        "import numpy as np\n",
        "import emoji\n",
        "from collections import Counter\n",
        "import matplotlib.pyplot as plt\n",
        "from PIL import Image\n",
        "from wordcloud import WordCloud, STOPWORDS, ImageColorGenerator\n",
        "\n",
        "# Extract Time\n",
        "def date_time(s):\n",
        "    pattern = '^([0-9]+)(\\/)([0-9]+)(\\/)([0-9]+), ([0-9]+):([0-9]+)[ ]?(AM|PM|am|pm)? -'\n",
        "    result = re.match(pattern, s)\n",
        "    if result:\n",
        "        return True\n",
        "    return False\n",
        "\n",
        "# Find Authors or Contacts\n",
        "def find_author(s):\n",
        "    s = s.split(\":\")\n",
        "    if len(s)==2:\n",
        "        return True\n",
        "    else:\n",
        "        return False\n",
        "\n",
        "# Finding Messages\n",
        "def getDatapoint(line):\n",
        "    splitline = line.split(' - ')\n",
        "    dateTime = splitline[0]\n",
        "    date, time = dateTime.split(\", \")\n",
        "    message = \" \".join(splitline[1:])\n",
        "    if find_author(message):\n",
        "        splitmessage = message.split(\": \")\n",
        "        author = splitmessage[0]\n",
        "        message = \" \".join(splitmessage[1:])\n",
        "    else:\n",
        "        author= None\n",
        "    return date, time, author, message"
      ],
      "execution_count": 3,
      "outputs": []
    },
    {
      "cell_type": "markdown",
      "metadata": {
        "id": "vTqGyYv3Sd-7"
      },
      "source": [
        "It doesn’t matter if you are using a group chat dataset or your conversation with one person. All the functions defined above will prepare your data for the task of sentiment analysis as well as for any data science task. Now here is how we can prepare the data we collected from WhatsApp by using the above functions:"
      ]
    },
    {
      "cell_type": "code",
      "metadata": {
        "id": "IztMq6qFSViC"
      },
      "source": [
        "data = []\n",
        "conversation = 'WhatsApp Chat with 2021 Ekk Dhoka hai😟.txt'\n",
        "with open(conversation, encoding=\"utf-8\") as fp:\n",
        "    fp.readline()\n",
        "    messageBuffer = []\n",
        "    date, time, author = None, None, None\n",
        "    while True:\n",
        "        line = fp.readline()\n",
        "        if not line:\n",
        "            break\n",
        "        line = line.strip()\n",
        "        if date_time(line):\n",
        "            if len(messageBuffer) > 0:\n",
        "                data.append([date, time, author, ' '.join(messageBuffer)])\n",
        "            messageBuffer.clear()\n",
        "            date, time, author, message = getDatapoint(line)\n",
        "            messageBuffer.append(message)\n",
        "        else:\n",
        "            messageBuffer.append(line)"
      ],
      "execution_count": 5,
      "outputs": []
    },
    {
      "cell_type": "markdown",
      "metadata": {
        "id": "kyaKLifkULpc"
      },
      "source": [
        "Now here is how we can analyze the sentiments of WhatsApp chat using Python:"
      ]
    },
    {
      "cell_type": "code",
      "metadata": {
        "colab": {
          "base_uri": "https://localhost:8080/"
        },
        "id": "YK84YelUSjD_",
        "outputId": "47943b73-eb0f-42cb-9497-4fef3a35bab8"
      },
      "source": [
        "import nltk\n",
        "nltk.download('vader_lexicon')\n",
        "df = pd.DataFrame(data, columns=[\"Date\", 'Time', 'Author', 'Message'])\n",
        "df['Date'] = pd.to_datetime(df['Date'])\n",
        "\n",
        "data = df.dropna()\n",
        "from nltk.sentiment.vader import SentimentIntensityAnalyzer\n",
        "sentiments = SentimentIntensityAnalyzer()\n",
        "data[\"Positive\"] = [sentiments.polarity_scores(i)[\"pos\"] for i in data[\"Message\"]]\n",
        "data[\"Negative\"] = [sentiments.polarity_scores(i)[\"neg\"] for i in data[\"Message\"]]\n",
        "data[\"Neutral\"] = [sentiments.polarity_scores(i)[\"neu\"] for i in data[\"Message\"]]\n",
        "print(data.head())"
      ],
      "execution_count": 7,
      "outputs": [
        {
          "output_type": "stream",
          "text": [
            "[nltk_data] Downloading package vader_lexicon to /root/nltk_data...\n",
            "        Date      Time           Author  ... Positive  Negative  Neutral\n",
            "2 2021-06-06  12:26 PM  Priyabrata IGIT  ...      0.0       0.0      1.0\n",
            "3 2021-06-07   7:46 AM   Sritakant IGIT  ...      0.0       0.0      1.0\n",
            "4 2021-06-07   7:49 AM      Pankaj IGIT  ...      0.0       0.0      0.0\n",
            "5 2021-06-07   7:50 AM   Sritakant IGIT  ...      0.0       0.0      1.0\n",
            "6 2021-06-07   7:51 AM   Nrusingha IGIT  ...      0.0       0.0      1.0\n",
            "\n",
            "[5 rows x 7 columns]\n"
          ],
          "name": "stdout"
        }
      ]
    },
    {
      "cell_type": "code",
      "metadata": {
        "colab": {
          "base_uri": "https://localhost:8080/"
        },
        "id": "3EbS9Pi6UQ8f",
        "outputId": "3233b5be-4b8e-4bc6-c4b4-74860f330252"
      },
      "source": [
        "x = sum(data[\"Positive\"])\n",
        "y = sum(data[\"Negative\"])\n",
        "z = sum(data[\"Neutral\"])\n",
        "\n",
        "def sentiment_score(a, b, c):\n",
        "    if (a>b) and (a>c):\n",
        "        print(\"Positive 😊 \")\n",
        "    elif (b>a) and (b>c):\n",
        "        print(\"Negative 😠 \")\n",
        "    else:\n",
        "        print(\"Neutral 🙂 \")\n",
        "sentiment_score(x, y, z)"
      ],
      "execution_count": 8,
      "outputs": [
        {
          "output_type": "stream",
          "text": [
            "Neutral 🙂 \n"
          ],
          "name": "stdout"
        }
      ]
    },
    {
      "cell_type": "markdown",
      "metadata": {
        "id": "W-i5gn7jUshw"
      },
      "source": [
        "So, the data I used indicates that most of the messages between me and the other person are neutral. Which means it’s neither positive nor negative."
      ]
    },
    {
      "cell_type": "markdown",
      "metadata": {
        "id": "ioL3CNELU3uf"
      },
      "source": [
        "# Summary\n",
        "So this is how we can perform the task of sentiment analysis of WhatsApp chat. WhatsApp is a great source of data for the task of sentiment analysis and every data science task based on natural language processing. I hope you liked this article on the task of WhatsApp chat sentiment analysis using Python. Feel free to ask your valuable questions in the comments section below."
      ]
    }
  ]
}